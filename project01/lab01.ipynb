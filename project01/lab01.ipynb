{
 "cells": [
  {
   "cell_type": "code",
   "execution_count": 1,
   "id": "668e2d86-bd9a-4f97-ad44-cd1d846ddece",
   "metadata": {},
   "outputs": [],
   "source": [
    "import pandas as pd\n",
    "import json\n",
    "import re\n",
    "import pickle"
   ]
  },
  {
   "cell_type": "markdown",
   "id": "f73efa08-83e5-42e0-b4b3-d01d95e9664f",
   "metadata": {},
   "source": [
    "# 1. Column information"
   ]
  },
  {
   "cell_type": "code",
   "execution_count": 2,
   "id": "ce89e6db-705e-426b-8155-c1f3b2f21a87",
   "metadata": {},
   "outputs": [],
   "source": [
    "df = pd.read_csv(\"proj1_ex01.csv\")"
   ]
  },
  {
   "cell_type": "code",
   "execution_count": 3,
   "id": "3f52b6d8-7c6d-4930-b711-f5e43230a818",
   "metadata": {},
   "outputs": [
    {
     "data": {
      "text/html": [
       "<div>\n",
       "<style scoped>\n",
       "    .dataframe tbody tr th:only-of-type {\n",
       "        vertical-align: middle;\n",
       "    }\n",
       "\n",
       "    .dataframe tbody tr th {\n",
       "        vertical-align: top;\n",
       "    }\n",
       "\n",
       "    .dataframe thead th {\n",
       "        text-align: right;\n",
       "    }\n",
       "</style>\n",
       "<table border=\"1\" class=\"dataframe\">\n",
       "  <thead>\n",
       "    <tr style=\"text-align: right;\">\n",
       "      <th></th>\n",
       "      <th>First column</th>\n",
       "      <th>two</th>\n",
       "      <th>three</th>\n",
       "      <th>SOME;NAME</th>\n",
       "      <th>five</th>\n",
       "      <th>What is this even?</th>\n",
       "      <th>seven</th>\n",
       "      <th>eight</th>\n",
       "    </tr>\n",
       "  </thead>\n",
       "  <tbody>\n",
       "    <tr>\n",
       "      <th>0</th>\n",
       "      <td>0.348554</td>\n",
       "      <td>-0.14509562920877161</td>\n",
       "      <td>-0.012336991474672475</td>\n",
       "      <td>9</td>\n",
       "      <td>red</td>\n",
       "      <td>good</td>\n",
       "      <td>quarrelsome</td>\n",
       "      <td>2016-05-26 09:33:42</td>\n",
       "    </tr>\n",
       "    <tr>\n",
       "      <th>1</th>\n",
       "      <td>-1.493853</td>\n",
       "      <td>0.12436946488785079</td>\n",
       "      <td>1.4611100361038865</td>\n",
       "      <td>4</td>\n",
       "      <td>red</td>\n",
       "      <td>bad</td>\n",
       "      <td>doctor</td>\n",
       "      <td>2016-12-03 18:55:52</td>\n",
       "    </tr>\n",
       "    <tr>\n",
       "      <th>2</th>\n",
       "      <td>-0.325891</td>\n",
       "      <td>NaN</td>\n",
       "      <td>-0.42191202598625566</td>\n",
       "      <td>2</td>\n",
       "      <td>red</td>\n",
       "      <td>average</td>\n",
       "      <td>large</td>\n",
       "      <td>2016-05-15 11:49:26</td>\n",
       "    </tr>\n",
       "    <tr>\n",
       "      <th>3</th>\n",
       "      <td>-0.506596</td>\n",
       "      <td>0.3991147675939107</td>\n",
       "      <td>-0.26502607502330217</td>\n",
       "      <td>5</td>\n",
       "      <td>green</td>\n",
       "      <td>average</td>\n",
       "      <td>muddled</td>\n",
       "      <td>2015-01-30 22:33:29</td>\n",
       "    </tr>\n",
       "    <tr>\n",
       "      <th>4</th>\n",
       "      <td>NaN</td>\n",
       "      <td>-0.6913144223047157</td>\n",
       "      <td>-0.26502607502330217</td>\n",
       "      <td>2</td>\n",
       "      <td>blue</td>\n",
       "      <td>good</td>\n",
       "      <td>coordinated</td>\n",
       "      <td>2015-11-20 00:15:35</td>\n",
       "    </tr>\n",
       "  </tbody>\n",
       "</table>\n",
       "</div>"
      ],
      "text/plain": [
       "   First column                   two                  three  SOME;NAME  \\\n",
       "0      0.348554  -0.14509562920877161  -0.012336991474672475          9   \n",
       "1     -1.493853   0.12436946488785079     1.4611100361038865          4   \n",
       "2     -0.325891                   NaN   -0.42191202598625566          2   \n",
       "3     -0.506596    0.3991147675939107  -0.26502607502330217           5   \n",
       "4           NaN   -0.6913144223047157   -0.26502607502330217          2   \n",
       "\n",
       "    five What is this even?        seven                eight  \n",
       "0    red               good  quarrelsome  2016-05-26 09:33:42  \n",
       "1    red                bad       doctor  2016-12-03 18:55:52  \n",
       "2    red            average        large  2016-05-15 11:49:26  \n",
       "3  green            average      muddled  2015-01-30 22:33:29  \n",
       "4   blue               good  coordinated  2015-11-20 00:15:35  "
      ]
     },
     "execution_count": 3,
     "metadata": {},
     "output_type": "execute_result"
    }
   ],
   "source": [
    "df.head()"
   ]
  },
  {
   "cell_type": "code",
   "execution_count": 5,
   "id": "4724319a-c25a-425c-bd5b-559e71d426fa",
   "metadata": {},
   "outputs": [
    {
     "name": "stdout",
     "output_type": "stream",
     "text": [
      "[{'name': 'First column', 'missing': 0.14285714285714285, 'type': 'float'}, {'name': 'two', 'missing': 0.14285714285714285, 'type': 'other'}, {'name': 'three', 'missing': 0.0, 'type': 'other'}, {'name': 'SOME;NAME', 'missing': 0.0, 'type': 'int'}, {'name': 'five', 'missing': 0.0, 'type': 'other'}, {'name': 'What is this even?', 'missing': 0.0, 'type': 'other'}, {'name': 'seven', 'missing': 0.0, 'type': 'other'}, {'name': 'eight', 'missing': 0.0, 'type': 'other'}]\n"
     ]
    }
   ],
   "source": [
    "info = []\n",
    "for col in df.columns:\n",
    "    dict1 = {'name': None, 'missing': None, 'type': None}\n",
    "    \n",
    "    dict1['name'] = df[col].name\n",
    "    dict1['missing'] = df[col].isnull().sum() / len(df[col])\n",
    "    if df[col].dtypes == \"float\":\n",
    "        dict1['type'] = 'float'\n",
    "    elif df[col].dtypes == \"int\":\n",
    "        dict1['type'] = 'int'\n",
    "    else:\n",
    "        dict1['type'] = 'other'\n",
    "    info.append(dict1)\n",
    "    \n",
    "print(info)\n",
    "with open('proj1_ex01_fields.json', 'w') as file:\n",
    "    json.dump(info, file)"
   ]
  },
  {
   "cell_type": "markdown",
   "id": "73036628-3cf6-4d25-8369-79e7c7fc986d",
   "metadata": {},
   "source": [
    "# 2. Value statistics"
   ]
  },
  {
   "cell_type": "code",
   "execution_count": 6,
   "id": "acc6a0c5-dafe-4c85-adb1-81b4f1543ca5",
   "metadata": {},
   "outputs": [
    {
     "name": "stdout",
     "output_type": "stream",
     "text": [
      "{'count': 6.0, 'mean': -0.5009940002009552, 'std': 0.8839385203395562, 'min': -1.55529041326908, '25%': -1.247038692513933, '50%': -0.4162433767179556, '75%': 0.1799426841401469, 'max': 0.5271122588523375}\n",
      "{'count': 6.0, 'unique': 6.0, 'top': '-0.14509562920877161', 'freq': 1.0}\n",
      "{'count': 7.0, 'unique': 7.0, 'top': '-0.012336991474672475', 'freq': 1.0}\n",
      "{'count': 7.0, 'mean': 4.142857142857143, 'std': 2.544836041121407, 'min': 2.0, '25%': 2.0, '50%': 4.0, '75%': 5.0, 'max': 9.0}\n",
      "{'count': 7.0, 'unique': 3.0, 'top': 'red', 'freq': 3.0}\n",
      "{'count': 7.0, 'unique': 3.0, 'top': 'good', 'freq': 3.0}\n",
      "{'count': 7.0, 'unique': 7.0, 'top': 'quarrelsome', 'freq': 1.0}\n",
      "{'count': 7.0, 'unique': 7.0, 'top': '2016-05-26 09:33:42', 'freq': 1.0}\n"
     ]
    }
   ],
   "source": [
    "dict2 = {}\n",
    "\n",
    "for col in df.columns:\n",
    "    dict_c = {}\n",
    "    \n",
    "    dict_c[\"count\"] = float(df[col].count())\n",
    "    if df[col].dtypes in (\"int\", \"float\"):\n",
    "        dict_c['mean'] = float(df[col].mean())\n",
    "        dict_c['std'] = float(df[col].std())\n",
    "        dict_c['min'] = float(df[col].min())\n",
    "        dict_c['25%'] = float(df[col].quantile(0.25))\n",
    "        dict_c['50%'] = float(df[col].quantile(0.5))\n",
    "        dict_c['75%'] = float(df[col].quantile(0.75))\n",
    "        dict_c['max'] = float(df[col].max())\n",
    "    else:\n",
    "        dict_c['unique'] = float(df[col].nunique(dropna=True))\n",
    "        freq = df[col].value_counts().max()\n",
    "        # the_most_freq = df[col].value_counts().loc[lambda x: x==a].index\n",
    "        # print(the_most_freq)\n",
    "        # for x in the_most_freq:\n",
    "        #     dict_c['top'].append(x)\n",
    "        dict_c['top'] = df[col].value_counts().idxmax()\n",
    "        dict_c['freq'] = float(freq)\n",
    "    \n",
    "    dict2[df[col].name] = dict_c\n",
    "    print(dict_c)\n",
    "\n",
    "with open('proj1_ex02_stats.json', 'w') as file:\n",
    "    json.dump(dict2, file, indent=4)"
   ]
  },
  {
   "cell_type": "markdown",
   "id": "f54443e3-bbec-43ec-b5de-7a754a0552e4",
   "metadata": {},
   "source": [
    "# 3. Column names"
   ]
  },
  {
   "cell_type": "code",
   "execution_count": 7,
   "id": "76acb117-8126-4f8a-8263-9ca668491dc3",
   "metadata": {},
   "outputs": [
    {
     "name": "stdout",
     "output_type": "stream",
     "text": [
      "First column\n",
      "first_column\n",
      "two\n",
      "two\n",
      "three\n",
      "three\n",
      "SOME;NAME\n",
      "somename\n",
      "five\n",
      "five\n",
      "What is this even?\n",
      "what_is_this_even\n",
      "seven\n",
      "seven\n",
      "eight\n",
      "eight\n"
     ]
    }
   ],
   "source": [
    "for col in df.columns:\n",
    "    print(df[col].name)\n",
    "    x = re.sub('[^A-Za-z0–9_ ]', '', df[col].name).lower().replace(' ', '_')\n",
    "    print(x)\n",
    "    df.rename(columns = {df[col].name: x}, inplace=True)\n",
    "\n",
    "df.to_csv('proj1_ex03_columns.csv', index=False)"
   ]
  },
  {
   "cell_type": "markdown",
   "id": "81b92fe9-624c-4b33-94ca-24fc900e53c1",
   "metadata": {},
   "source": [
    "# 4. Output formats"
   ]
  },
  {
   "cell_type": "code",
   "execution_count": 8,
   "id": "cfc148bc-54e5-4113-8c1a-a428c7321c09",
   "metadata": {},
   "outputs": [],
   "source": [
    "df.to_excel('proj1_ex04_excel.xlsx', engine='openpyxl', index=False)"
   ]
  },
  {
   "cell_type": "code",
   "execution_count": 9,
   "id": "651e7b2c-1aca-474b-8a71-90044147598e",
   "metadata": {},
   "outputs": [],
   "source": [
    "df.to_json('proj1_ex04_json.json', orient='records', lines=False)"
   ]
  },
  {
   "cell_type": "code",
   "execution_count": 10,
   "id": "f9b3e57a-283f-41d0-8ca6-786134af8fbf",
   "metadata": {},
   "outputs": [],
   "source": [
    "df.to_pickle('proj1_ex04_pickle.pkl')"
   ]
  },
  {
   "cell_type": "markdown",
   "id": "37ca791e-ef8b-47ec-bdab-060aaacbad21",
   "metadata": {},
   "source": [
    "# 5. Selecting rows and columns"
   ]
  },
  {
   "cell_type": "code",
   "execution_count": 11,
   "id": "185bed50-5868-451a-a57c-4f95ad8a879e",
   "metadata": {
    "scrolled": true
   },
   "outputs": [
    {
     "name": "stdout",
     "output_type": "stream",
     "text": [
      "                 description   age\n",
      "v            Freedom fighter   NaN\n",
      "evey           Revolutionary  16.0\n",
      "finch       Police detective  40.0\n",
      "creedy   Government official  49.0\n",
      "gordon        Talk show host  38.0\n",
      "valerie              Actress   NaN\n",
      "delia     Medical researcher  50.0\n",
      "             description age\n",
      "v        Freedom fighter    \n",
      "valerie          Actress    \n"
     ]
    }
   ],
   "source": [
    "with open('proj1_ex05.pkl', 'rb') as file:\n",
    "    data = pickle.load(file)\n",
    "    columns = data.iloc[:, [1, 2]]\n",
    "    print(columns)\n",
    "    rows = columns[columns.index.str.startswith('v')].fillna('')\n",
    "    print(rows)\n",
    "    rows.to_markdown('proj1_ex05_table.md')"
   ]
  },
  {
   "cell_type": "markdown",
   "id": "f5b096d5-9fb6-43c4-a153-e7b5f08d93e7",
   "metadata": {},
   "source": [
    "# 6. Flattening data"
   ]
  },
  {
   "cell_type": "code",
   "execution_count": 13,
   "id": "3be208fc-3eb8-4807-8e87-a428c0e193c1",
   "metadata": {},
   "outputs": [],
   "source": [
    "with open('proj1_ex06.json', 'r') as file:\n",
    "    json_data = json.load(file)\n",
    "    normalized = pd.json_normalize(json_data)\n",
    "    normalized.to_pickle('proj1_ex06_pickle.pkl')"
   ]
  }
 ],
 "metadata": {
  "kernelspec": {
   "display_name": "Python 3 (ipykernel)",
   "language": "python",
   "name": "python3"
  },
  "language_info": {
   "codemirror_mode": {
    "name": "ipython",
    "version": 3
   },
   "file_extension": ".py",
   "mimetype": "text/x-python",
   "name": "python",
   "nbconvert_exporter": "python",
   "pygments_lexer": "ipython3",
   "version": "3.11.8"
  }
 },
 "nbformat": 4,
 "nbformat_minor": 5
}
